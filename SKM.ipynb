{
 "cells": [
  {
   "cell_type": "markdown",
   "metadata": {},
   "source": [
    "\n",
    "12. Дифференциальные уравнения. Робин Гуд\n",
    "Робин Гуд бросает камень с привязанным к нему письмом через бойницу крепостной стены в открытое окно, стоящего за ней замка:\n",
    "\n",
    "                    стена                    замок\n",
    "                    _____ \n",
    "                   [     ]                  ______ \n",
    "                   [     ]                 [      ]\n",
    "                   [_____]                 [      ]\n",
    "                   бойница                 [      ]\n",
    "                    _____                  [      ]\n",
    "                   [     ]                 [      ]\n",
    "                   [     ]                   окно ]\n",
    "                   [     ]                 [      ]\n",
    "                   [     ]                 [      ]\n",
    "                   [     ]                 [      ]\n",
    "                   [     ]                 [      ]\n",
    "                   [     ]                 [      ]\n",
    "                   [     ]                 [      ]\n",
    "~~~~~~~~~~~~~~~~~~~~~~~~~~~~~~~~~~~~~~~~~~~~~~~~~~~~\n",
    "\n",
    "\n",
    "Смоделируйте полет камня с помощью функции integrate.solve_ivp. Рассмотрите следующие события (events):\n",
    "\n",
    "камень упал на землю, не долетев до окна (либо до, либо после стены);\n",
    "камень не попал в бойницу (ударился о стену);\n",
    "камень застрял в бойнице (стукнулся о «пол» или «потолок» бойницы и упал внутри нее);\n",
    "камень стукнулся о стену замка (не попав в окно);\n",
    "камень попал в окно (для простоты считаем, что и крепостная стена, и замок очень высокие и сверху через них камень перебросить нельзя). При наступлении каждого из этих событий дальнейшее интегрирование прекращаются.\n",
    "Написать функцию, на вход которой подаются:\n",
    "\n",
    "параметры: масса камня, расстояние от Робин Гуда до стены, толщину стены (равную длине бойницы), расстояние от земли до бойницы и высоту бойницы, расстояние от стены до замка, расстояние от земли до окна и высоту окна,\n",
    "\n",
    "начальные условия: угол броска и начальную скорость камня.\n",
    "\n",
    "Программа должна отображать «вид сбоку» (многоугольники можно нарисовать с помощью функций matplotlib.patches.Patch) и траекторию полета.\n",
    "\n",
    "\n",
    "\\begin{equation*}\n",
    "  \\begin{cases}\n",
    "    x^′=vx\\\\\n",
    "    x^{′′}=\\frac{-k}{m}v|v|\\\\\n",
    "    z^′=vz\\\\\n",
    "    z^{′′}=\\frac{-k}{m}v|v|−g\\\\\n",
    "  \\end{cases}\n",
    "\\end{equation*}\n"
   ]
  },
  {
   "cell_type": "markdown",
   "metadata": {},
   "source": [
    "# Попадание в стену"
   ]
  },
  {
   "cell_type": "code",
   "execution_count": 11,
   "metadata": {
    "scrolled": true
   },
   "outputs": [
    {
     "data": {
      "text/plain": [
       "[<matplotlib.lines.Line2D at 0x7f0e08ad8828>]"
      ]
     },
     "execution_count": 11,
     "metadata": {},
     "output_type": "execute_result"
    },
    {
     "data": {
      "image/png": "[encoded data removed]",
      "text/plain": [
       "<Figure size 432x288 with 1 Axes>"
      ]
     },
     "metadata": {
      "needs_background": "light"
     },
     "output_type": "display_data"
    }
   ],
   "source": [
    "import numpy as np\n",
    "from scipy.integrate import solve_ivp\n",
    "import matplotlib.pyplot as plt\n",
    "\n",
    "\n",
    "m = 0.2 # Масса камня\n",
    "g = 9.81 # Ускорение свободного падения\n",
    "lwall =20 # Расстояние от мест броска до стены с бойницей\n",
    "wallWidth = 1 # Ширина стены\n",
    "bHeight = 5 # Высота от земли до бойницы\n",
    "boinHeight = 3 # Высота бойницы\n",
    "WallCastle = 10 # Расстояние от стены до замка\n",
    "wHeight = 10 # Высота от земли до окна\n",
    "windowHeight = 5 # Высота окна\n",
    "dis = WallCastle + wallWidth+lwall+5\n",
    "\n",
    "k = 0.01 # Коэффициентом пропорциональност\n",
    "\n",
    "v0 = 30 # Начальная скорость броска\n",
    "angle = np.radians(20) # Угол броска\n",
    "\n",
    "\n",
    "def stone(t, u):\n",
    "    x, x1, z, z1 = u\n",
    "    x2 = -k/m * np.sqrt(x1*x1+z1*z1) * x1\n",
    "    z2 = -k/m * np.sqrt(x1*x1+z1*z1) * z1 - g\n",
    "    return x1, x2, z1, z2\n",
    "\n",
    "u0 = 0, v0 * np.cos(angle), 1.5, v0 * np.sin(angle) # Начальные условия\n",
    "\n",
    "t0 = 0\n",
    "\n",
    "#Событие побадания в стену с бойницей\n",
    "def Wall1(t,u):\n",
    "    if u[0] >= lwall and u[0] <=lwall + wallWidth and (u[2] > bHeight + boinHeight or u[2] < bHeight):\n",
    "        return 0\n",
    "    return 1\n",
    "\n",
    "Wall1.terminal = True\n",
    "\n",
    "#Событие побадания в стену замка\n",
    "def Wall2(t,u):\n",
    "    if u[0] >= WallCastle + wallWidth + lwall and (u[2] > wHeight + windowHeight or u[2] < wHeight):\n",
    "        return 0\n",
    "    return 1\n",
    "\n",
    "Wall2.terminal = True\n",
    "\n",
    "#Событие побадания в бойницу\n",
    "def Boin(t,u):\n",
    "    if u[0] >= lwall and u[0] <= lwall + wallWidth and (u[2] > bHeight + boinHeight or u[2] < bHeight):\n",
    "        return 0\n",
    "    return 1\n",
    "\n",
    "Boin.terminal = True\n",
    "\n",
    "#Событие побадания в окно\n",
    "def Window(t,u):\n",
    "    if u[0] >= WallCastle + wallWidth + lwall and u[2] <= wHeight + windowHeight and u[2] >= wHeight:\n",
    "        return 0\n",
    "    return 1\n",
    "\n",
    "Window.terminal = True\n",
    "\n",
    "#Событие падения на землю\n",
    "def Ground(t, u):\n",
    "    return u[2]\n",
    "\n",
    "Ground.terminal = True\n",
    "\n",
    "\n",
    "soln = solve_ivp(stone,[t0, 2],u0, rtol = 1e-8, atol=1e-8,dense_output=True,\n",
    "events=(Ground, Wall2,Wall1, Window, Boin))\n",
    "\n",
    "\n",
    "import matplotlib.patches as patches\n",
    "fig = plt.figure()\n",
    "ax = fig.gca()\n",
    "\n",
    "# Отрисовка стены и замка\n",
    "def build():\n",
    "    \n",
    "    path = [\n",
    "    [0, 0],\n",
    "    [dis, 0],\n",
    "    [dis, -1],\n",
    "    [0, -1],\n",
    "    ]\n",
    "    ax.add_patch(patches.Polygon(path))\n",
    "    path = [\n",
    "    [lwall, 0],\n",
    "    [lwall, bHeight],\n",
    "    [lwall+wallWidth, bHeight],\n",
    "    [lwall+wallWidth, 0],\n",
    "    ]\n",
    "    ax.add_patch(patches.Polygon(path))\n",
    "    path = [\n",
    "    [lwall, bHeight+boinHeight],\n",
    "    [lwall, 25],\n",
    "    [lwall+wallWidth, 25],\n",
    "    [lwall+wallWidth, bHeight+boinHeight],\n",
    "    ]\n",
    "    ax.add_patch(patches.Polygon(path))\n",
    "    path = [\n",
    "    [dis-5, 0],\n",
    "    [dis-5, wHeight],\n",
    "    [dis-5+wallWidth, wHeight],\n",
    "    [dis-5+wallWidth, 0],\n",
    "    ]\n",
    "    ax.add_patch(patches.Polygon(path))\n",
    "    path = [\n",
    "    [dis-5, wHeight+windowHeight],\n",
    "    [dis-5, 25],\n",
    "    [dis-5+wallWidth, 25],\n",
    "    [dis-5+wallWidth, wHeight+windowHeight],\n",
    "    ]\n",
    "    ax.add_patch(patches.Polygon(path))\n",
    "    path = [\n",
    "    [dis-5+wallWidth, 0],\n",
    "    [dis-5+wallWidth, 25],\n",
    "    [dis, 25],\n",
    "    [dis, 0],\n",
    "    ]\n",
    "    ax.add_patch(patches.Polygon(path))\n",
    "build()\n",
    "m = -1\n",
    "for i in range(5):\n",
    "    if len(soln.t_events[i]) != 0 and (soln.t_events[i][0] < m or m == -1):\n",
    "        m = soln.t_events[i][0]\n",
    "        \n",
    "t = np.linspace(t0, m, 500)\n",
    "ax.plot(soln.sol(t)[0],soln.sol(t)[2], color=\"red\")"
   ]
  },
  {
   "cell_type": "markdown",
   "metadata": {},
   "source": [
    "# Попадание в окно"
   ]
  },
  {
   "cell_type": "code",
   "execution_count": 15,
   "metadata": {
    "scrolled": true
   },
   "outputs": [
    {
     "data": {
      "text/plain": [
       "[<matplotlib.lines.Line2D at 0x7f0e088f17b8>]"
      ]
     },
     "execution_count": 15,
     "metadata": {},
     "output_type": "execute_result"
    },
    {
     "data": {
      "image/png": "[encoded data removed]",
      "text/plain": [
       "<Figure size 432x288 with 1 Axes>"
      ]
     },
     "metadata": {
      "needs_background": "light"
     },
     "output_type": "display_data"
    }
   ],
   "source": [
    "m = 0.2 # Масса камня\n",
    "g = 9.81 # Ускорение свободного падения\n",
    "lwall =5 # Расстояние от мест броска до стены с бойницей\n",
    "wallWidth = 1 # Ширина стены\n",
    "bHeight = 5 # Высота от земли до бойницы\n",
    "boinHeight = 3 # Высота бойницы\n",
    "WallCastle = 10 # Расстояние от стены до замка\n",
    "wHeight = 10 # Высота от земли до окна\n",
    "windowHeight = 5 # Высота окна\n",
    "dis = WallCastle + wallWidth+lwall+5\n",
    "\n",
    "k = 0.01 # Коэффициентом пропорциональност\n",
    "\n",
    "v0 = 30 # Начальная скорость броска\n",
    "angle = np.radians(45) # Угол броска\n",
    "\n",
    "\n",
    "def stone(t, u):\n",
    "    x, x1, z, z1 = u\n",
    "    x2 = -k/m * np.sqrt(x1*x1+z1*z1) * x1\n",
    "    z2 = -k/m * np.sqrt(x1*x1+z1*z1) * z1 - g\n",
    "    return x1, x2, z1, z2\n",
    "\n",
    "u0 = 0, v0 * np.cos(angle), 1.5, v0 * np.sin(angle) # Начальные условия\n",
    "\n",
    "t0 = 0\n",
    "\n",
    "#Событие побадания в стену с бойницей\n",
    "def Wall1(t,u):\n",
    "    if u[0] >= lwall and u[0] <=lwall + wallWidth and (u[2] > bHeight + boinHeight or u[2] < bHeight):\n",
    "        return 0\n",
    "    return 1\n",
    "\n",
    "Wall1.terminal = True\n",
    "\n",
    "#Событие побадания в стену замка\n",
    "def Wall2(t,u):\n",
    "    if u[0] >= WallCastle + wallWidth + lwall and (u[2] > wHeight + windowHeight or u[2] < wHeight):\n",
    "        return 0\n",
    "    return 1\n",
    "\n",
    "Wall2.terminal = True\n",
    "\n",
    "#Событие побадания в бойницу\n",
    "def Boin(t,u):\n",
    "    if u[0] >= lwall and u[0] <= lwall + wallWidth and (u[2] > bHeight + boinHeight or u[2] < bHeight):\n",
    "        return 0\n",
    "    return 1\n",
    "\n",
    "Boin.terminal = True\n",
    "\n",
    "#Событие побадания в окно\n",
    "def Window(t,u):\n",
    "    if u[0] >= WallCastle + wallWidth + lwall and u[2] <= wHeight + windowHeight and u[2] >= wHeight:\n",
    "        return 0\n",
    "    return 1\n",
    "\n",
    "Window.terminal = True\n",
    "\n",
    "#Событие падения на землю\n",
    "def Ground(t, u):\n",
    "    return u[2]\n",
    "\n",
    "Ground.terminal = True\n",
    "\n",
    "\n",
    "soln = solve_ivp(stone,[t0, 2],u0, rtol = 1e-8, atol=1e-8,dense_output=True,\n",
    "events=(Ground, Wall2,Wall1, Window, Boin))\n",
    "fig = plt.figure()\n",
    "ax = fig.gca()\n",
    "build()\n",
    "m = -1\n",
    "for i in range(4):\n",
    "    if len(soln.t_events[i]) != 0 and (soln.t_events[i][0] < m or m == -1):\n",
    "        m = soln.t_events[i][0]\n",
    "        \n",
    "t = np.linspace(t0, m, 500)\n",
    "ax.plot(soln.sol(t)[0],soln.sol(t)[2], color=\"red\")"
   ]
  },
  {
   "cell_type": "markdown",
   "metadata": {},
   "source": [
    "# Попадание в стену замка "
   ]
  },
  {
   "cell_type": "code",
   "execution_count": 16,
   "metadata": {},
   "outputs": [
    {
     "data": {
      "text/plain": [
       "[<matplotlib.lines.Line2D at 0x7f0e088dad68>]"
      ]
     },
     "execution_count": 16,
     "metadata": {},
     "output_type": "execute_result"
    },
    {
     "data": {
      "image/png": "[encoded data removed]",
      "text/plain": [
       "<Figure size 432x288 with 1 Axes>"
      ]
     },
     "metadata": {
      "needs_background": "light"
     },
     "output_type": "display_data"
    }
   ],
   "source": [
    "m = 0.2 # Масса камня\n",
    "g = 9.81 # Ускорение свободного падения\n",
    "lwall =5 # Расстояние от мест броска до стены с бойницей\n",
    "wallWidth = 1 # Ширина стены\n",
    "bHeight = 5 # Высота от земли до бойницы\n",
    "boinHeight = 3 # Высота бойницы\n",
    "WallCastle = 10 # Расстояние от стены до замка\n",
    "wHeight = 10 # Высота от земли до окна\n",
    "windowHeight = 5 # Высота окна\n",
    "dis = WallCastle + wallWidth+lwall+5\n",
    "\n",
    "k = 0.01 # Коэффициентом пропорциональност\n",
    "\n",
    "v0 = 25 # Начальная скорость броска\n",
    "angle = np.radians(45) # Угол броска\n",
    "\n",
    "\n",
    "def stone(t, u):\n",
    "    x, x1, z, z1 = u\n",
    "    x2 = -k/m * np.sqrt(x1*x1+z1*z1) * x1\n",
    "    z2 = -k/m * np.sqrt(x1*x1+z1*z1) * z1 - g\n",
    "    return x1, x2, z1, z2\n",
    "\n",
    "u0 = 0, v0 * np.cos(angle), 1.5, v0 * np.sin(angle) # Начальные условия\n",
    "\n",
    "t0 = 0\n",
    "\n",
    "#Событие побадания в стену с бойницей\n",
    "def Wall1(t,u):\n",
    "    if u[0] >= lwall and u[0] <=lwall + wallWidth and (u[2] > bHeight + boinHeight or u[2] < bHeight):\n",
    "        return 0\n",
    "    return 1\n",
    "\n",
    "Wall1.terminal = True\n",
    "\n",
    "#Событие побадания в стену замка\n",
    "def Wall2(t,u):\n",
    "    if u[0] >= WallCastle + wallWidth + lwall and (u[2] > wHeight + windowHeight or u[2] < wHeight):\n",
    "        return 0\n",
    "    return 1\n",
    "\n",
    "Wall2.terminal = True\n",
    "\n",
    "#Событие побадания в бойницу\n",
    "def Boin(t,u):\n",
    "    if u[0] >= lwall and u[0] <= lwall + wallWidth and (u[2] > bHeight + boinHeight or u[2] < bHeight):\n",
    "        return 0\n",
    "    return 1\n",
    "\n",
    "Boin.terminal = True\n",
    "\n",
    "#Событие побадания в окно\n",
    "def Window(t,u):\n",
    "    if u[0] >= WallCastle + wallWidth + lwall and u[2] <= wHeight + windowHeight and u[2] >= wHeight:\n",
    "        return 0\n",
    "    return 1\n",
    "\n",
    "Window.terminal = True\n",
    "\n",
    "#Событие падения на землю\n",
    "def Ground(t, u):\n",
    "    return u[2]\n",
    "\n",
    "Ground.terminal = True\n",
    "\n",
    "\n",
    "soln = solve_ivp(stone,[t0, 2],u0, rtol = 1e-8, atol=1e-8,dense_output=True,\n",
    "events=(Ground, Wall2,Wall1, Window, Boin))\n",
    "fig = plt.figure()\n",
    "ax = fig.gca()\n",
    "build()\n",
    "m = -1\n",
    "for i in range(4):\n",
    "    if len(soln.t_events[i]) != 0 and (soln.t_events[i][0] < m or m == -1):\n",
    "        m = soln.t_events[i][0]\n",
    "        \n",
    "t = np.linspace(t0, m, 500)\n",
    "ax.plot(soln.sol(t)[0],soln.sol(t)[2], color=\"red\")"
   ]
  },
  {
   "cell_type": "markdown",
   "metadata": {},
   "source": [
    "# Попадание в бойницу"
   ]
  },
  {
   "cell_type": "code",
   "execution_count": 19,
   "metadata": {
    "scrolled": true
   },
   "outputs": [
    {
     "data": {
      "text/plain": [
       "[<matplotlib.lines.Line2D at 0x7f0e0879fcc0>]"
      ]
     },
     "execution_count": 19,
     "metadata": {},
     "output_type": "execute_result"
    },
    {
     "data": {
      "image/png": "[encoded data removed]",
      "text/plain": [
       "<Figure size 432x288 with 1 Axes>"
      ]
     },
     "metadata": {
      "needs_background": "light"
     },
     "output_type": "display_data"
    }
   ],
   "source": [
    "m = 0.2 # Масса камня\n",
    "g = 9.81 # Ускорение свободного падения\n",
    "lwall =5 # Расстояние от мест броска до стены с бойницей\n",
    "wallWidth = 1 # Ширина стены\n",
    "bHeight = 5 # Высота от земли до бойницы\n",
    "boinHeight = 3 # Высота бойницы\n",
    "WallCastle = 10 # Расстояние от стены до замка\n",
    "wHeight = 10 # Высота от земли до окна\n",
    "windowHeight = 5 # Высота окна\n",
    "dis = WallCastle + wallWidth+lwall+5\n",
    "\n",
    "k = 0.01 # Коэффициентом пропорциональност\n",
    "\n",
    "v0 = 30 # Начальная скорость броска\n",
    "angle = np.radians(53) # Угол броска\n",
    "\n",
    "\n",
    "def stone(t, u):\n",
    "    x, x1, z, z1 = u\n",
    "    x2 = -k/m * np.sqrt(x1*x1+z1*z1) * x1\n",
    "    z2 = -k/m * np.sqrt(x1*x1+z1*z1) * z1 - g\n",
    "    return x1, x2, z1, z2\n",
    "\n",
    "u0 = 0, v0 * np.cos(angle), 1.5, v0 * np.sin(angle) # Начальные условия\n",
    "\n",
    "t0 = 0\n",
    "\n",
    "#Событие побадания в стену с бойницей\n",
    "def Wall1(t,u):\n",
    "    if u[0] >= lwall and u[0] <=lwall + wallWidth and (u[2] > bHeight + boinHeight or u[2] < bHeight):\n",
    "        return 0\n",
    "    return 1\n",
    "\n",
    "Wall1.terminal = True\n",
    "\n",
    "#Событие побадания в стену замка\n",
    "def Wall2(t,u):\n",
    "    if u[0] >= WallCastle + wallWidth + lwall and (u[2] > wHeight + windowHeight or u[2] < wHeight):\n",
    "        return 0\n",
    "    return 1\n",
    "\n",
    "Wall2.terminal = True\n",
    "\n",
    "#Событие побадания в бойницу\n",
    "def Boin(t,u):\n",
    "    if u[0] >= lwall and u[0] <= lwall + wallWidth and (u[2] > bHeight + boinHeight or u[2] < bHeight):\n",
    "        return 0\n",
    "    return 1\n",
    "\n",
    "Boin.terminal = True\n",
    "\n",
    "#Событие побадания в окно\n",
    "def Window(t,u):\n",
    "    if u[0] >= WallCastle + wallWidth + lwall and u[2] <= wHeight + windowHeight and u[2] >= wHeight:\n",
    "        return 0\n",
    "    return 1\n",
    "\n",
    "Window.terminal = True\n",
    "\n",
    "#Событие падения на землю\n",
    "def Ground(t, u):\n",
    "    return u[2]\n",
    "\n",
    "Ground.terminal = True\n",
    "\n",
    "\n",
    "soln = solve_ivp(stone,[t0, 2],u0, rtol = 1e-8, atol=1e-8,dense_output=True,\n",
    "events=(Ground, Wall2,Wall1, Window, Boin))\n",
    "fig = plt.figure()\n",
    "ax = fig.gca()\n",
    "build()\n",
    "m = -1\n",
    "for i in range(4):\n",
    "    if len(soln.t_events[i]) != 0 and (soln.t_events[i][0] < m or m == -1):\n",
    "        m = soln.t_events[i][0]\n",
    "        \n",
    "t = np.linspace(t0, m, 500)\n",
    "ax.plot(soln.sol(t)[0],soln.sol(t)[2], color=\"red\")"
   ]
  },
  {
   "cell_type": "markdown",
   "metadata": {},
   "source": [
    "# Камень падает на землю"
   ]
  },
  {
   "cell_type": "code",
   "execution_count": 20,
   "metadata": {},
   "outputs": [
    {
     "data": {
      "text/plain": [
       "[<matplotlib.lines.Line2D at 0x7f0e08715400>]"
      ]
     },
     "execution_count": 20,
     "metadata": {},
     "output_type": "execute_result"
    },
    {
     "data": {
      "image/png": "[encoded data removed]",
      "text/plain": [
       "<Figure size 432x288 with 1 Axes>"
      ]
     },
     "metadata": {
      "needs_background": "light"
     },
     "output_type": "display_data"
    }
   ],
   "source": [
    "m = 0.2 # Масса камня\n",
    "g = 9.81 # Ускорение свободного падения\n",
    "lwall =5 # Расстояние от мест броска до стены с бойницей\n",
    "wallWidth = 1 # Ширина стены\n",
    "bHeight = 5 # Высота от земли до бойницы\n",
    "boinHeight = 3 # Высота бойницы\n",
    "WallCastle = 10 # Расстояние от стены до замка\n",
    "wHeight = 10 # Высота от земли до окна\n",
    "windowHeight = 5 # Высота окна\n",
    "dis = WallCastle + wallWidth+lwall+5\n",
    "\n",
    "k = 0.01 # Коэффициентом пропорциональност\n",
    "\n",
    "v0 = 5 # Начальная скорость броска\n",
    "angle = np.radians(45) # Угол броска\n",
    "\n",
    "\n",
    "def stone(t, u):\n",
    "    x, x1, z, z1 = u\n",
    "    x2 = -k/m * np.sqrt(x1*x1+z1*z1) * x1\n",
    "    z2 = -k/m * np.sqrt(x1*x1+z1*z1) * z1 - g\n",
    "    return x1, x2, z1, z2\n",
    "\n",
    "u0 = 0, v0 * np.cos(angle), 1.5, v0 * np.sin(angle) # Начальные условия\n",
    "\n",
    "t0 = 0\n",
    "\n",
    "#Событие побадания в стену с бойницей\n",
    "def Wall1(t,u):\n",
    "    if u[0] >= lwall and u[0] <=lwall + wallWidth and (u[2] > bHeight + boinHeight or u[2] < bHeight):\n",
    "        return 0\n",
    "    return 1\n",
    "\n",
    "Wall1.terminal = True\n",
    "\n",
    "#Событие побадания в стену замка\n",
    "def Wall2(t,u):\n",
    "    if u[0] >= WallCastle + wallWidth + lwall and (u[2] > wHeight + windowHeight or u[2] < wHeight):\n",
    "        return 0\n",
    "    return 1\n",
    "\n",
    "Wall2.terminal = True\n",
    "\n",
    "#Событие побадания в бойницу\n",
    "def Boin(t,u):\n",
    "    if u[0] >= lwall and u[0] <= lwall + wallWidth and (u[2] > bHeight + boinHeight or u[2] < bHeight):\n",
    "        return 0\n",
    "    return 1\n",
    "\n",
    "Boin.terminal = True\n",
    "\n",
    "#Событие побадания в окно\n",
    "def Window(t,u):\n",
    "    if u[0] >= WallCastle + wallWidth + lwall and u[2] <= wHeight + windowHeight and u[2] >= wHeight:\n",
    "        return 0\n",
    "    return 1\n",
    "\n",
    "Window.terminal = True\n",
    "\n",
    "#Событие падения на землю\n",
    "def Ground(t, u):\n",
    "    return u[2]\n",
    "\n",
    "Ground.terminal = True\n",
    "\n",
    "\n",
    "soln = solve_ivp(stone,[t0, 2],u0, rtol = 1e-8, atol=1e-8,dense_output=True,\n",
    "events=(Ground, Wall2,Wall1, Window, Boin))\n",
    "fig = plt.figure()\n",
    "ax = fig.gca()\n",
    "build()\n",
    "m = -1\n",
    "for i in range(4):\n",
    "    if len(soln.t_events[i]) != 0 and (soln.t_events[i][0] < m or m == -1):\n",
    "        m = soln.t_events[i][0]\n",
    "        \n",
    "t = np.linspace(t0, m, 500)\n",
    "ax.plot(soln.sol(t)[0],soln.sol(t)[2], color=\"red\")"
   ]
  },
  {
   "cell_type": "markdown",
   "metadata": {},
   "source": [
    "# Вывод"
   ]
  },
  {
   "cell_type": "markdown",
   "metadata": {},
   "source": [
    "Таким образом, меняя угол броска и скорость бросания камня можно получить разные результаты траектории полета."
   ]
  }
 ],
 "metadata": {
  "kernelspec": {
   "display_name": "Python 3",
   "language": "python",
   "name": "python3"
  },
  "language_info": {
   "codemirror_mode": {
    "name": "ipython",
    "version": 3
   },
   "file_extension": ".py",
   "mimetype": "text/x-python",
   "name": "python",
   "nbconvert_exporter": "python",
   "pygments_lexer": "ipython3",
   "version": "3.7.3"
  }
 },
 "nbformat": 4,
 "nbformat_minor": 2
}
